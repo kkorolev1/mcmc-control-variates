{
 "cells": [
  {
   "cell_type": "code",
   "execution_count": 1,
   "metadata": {},
   "outputs": [],
   "source": [
    "%load_ext autoreload\n",
    "%autoreload 2"
   ]
  },
  {
   "cell_type": "code",
   "execution_count": 16,
   "metadata": {},
   "outputs": [],
   "source": [
    "import matplotlib.pylab as plt\n",
    "import numpy as onp\n",
    "import jax.numpy as np\n",
    "import jax\n",
    "import equinox as eqx\n",
    "\n",
    "from tqdm import tqdm\n",
    "import typing as tp\n",
    "\n",
    "import sys\n",
    "sys.path.append(\"/home/korolevki/mcmc-control-variates/diffcv\")\n",
    "\n",
    "import optax"
   ]
  },
  {
   "cell_type": "code",
   "execution_count": 31,
   "metadata": {},
   "outputs": [],
   "source": [
    "from dist import GaussianMixture\n",
    "mixture = GaussianMixture(np.array([-10, 10]), np.array([1, 1]))"
   ]
  },
  {
   "cell_type": "code",
   "execution_count": 32,
   "metadata": {},
   "outputs": [],
   "source": [
    "key = jax.random.PRNGKey(20)\n",
    "data = mixture.sample(1000, key)"
   ]
  },
  {
   "cell_type": "code",
   "execution_count": 34,
   "metadata": {},
   "outputs": [
    {
     "data": {
      "image/png": "[encoded data removed]",
      "text/plain": [
       "<Figure size 640x480 with 1 Axes>"
      ]
     },
     "metadata": {},
     "output_type": "display_data"
    }
   ],
   "source": [
    "#plt.scatter(data[:,0], data[:,1], alpha=0.7)\n",
    "plt.hist(data, bins=50, density=True)\n",
    "plt.show()"
   ]
  },
  {
   "cell_type": "code",
   "execution_count": 35,
   "metadata": {},
   "outputs": [],
   "source": [
    "from mcmc import LangevinDynamics"
   ]
  },
  {
   "cell_type": "code",
   "execution_count": 44,
   "metadata": {},
   "outputs": [],
   "source": [
    "grad_log_p = jax.jit(jax.grad(mixture.log_p))\n",
    "\n",
    "n_particles = 100\n",
    "starter_points = jax.random.normal(key, shape=(n_particles, 1, mixture.means.shape[1])) * 5\n",
    "starter_keys = jax.random.split(key, n_particles)\n",
    "\n",
    "sampler = LangevinDynamics(gradient_func=grad_log_p, n_samples=100, gamma=5e-1, burnin_steps=0)"
   ]
  },
  {
   "cell_type": "code",
   "execution_count": 45,
   "metadata": {},
   "outputs": [],
   "source": [
    "final_xs, samples = jax.vmap(sampler)(starter_points, starter_keys)"
   ]
  },
  {
   "cell_type": "code",
   "execution_count": 46,
   "metadata": {},
   "outputs": [
    {
     "name": "stdout",
     "output_type": "stream",
     "text": [
      "(100, 100, 1)\n"
     ]
    }
   ],
   "source": [
    "print(samples.shape)\n",
    "samples = samples.reshape(-1, mixture.means.shape[1])"
   ]
  },
  {
   "cell_type": "code",
   "execution_count": 47,
   "metadata": {},
   "outputs": [
    {
     "data": {
      "image/png": "[encoded data removed]",
      "text/plain": [
       "<Figure size 640x480 with 1 Axes>"
      ]
     },
     "metadata": {},
     "output_type": "display_data"
    }
   ],
   "source": [
    "#plt.scatter(samples[:,0], samples[:,1], alpha=0.7)\n",
    "plt.hist(samples, bins=50, density=True)\n",
    "plt.show()"
   ]
  },
  {
   "cell_type": "code",
   "execution_count": 48,
   "metadata": {},
   "outputs": [],
   "source": [
    "from folx import forward_laplacian\n",
    "\n",
    "class Generator:\n",
    "    def __init__(self, grad_log_p, g):\n",
    "        self.grad_log_p = grad_log_p\n",
    "        self.fwd_g = forward_laplacian(g)\n",
    "    \n",
    "    def __call__(self, x):\n",
    "        output_g = self.fwd_g(x)\n",
    "        return np.dot(self.grad_log_p(x), output_g.jacobian.dense_array) + output_g.laplacian"
   ]
  },
  {
   "cell_type": "code",
   "execution_count": 49,
   "metadata": {},
   "outputs": [],
   "source": [
    "import equinox as eqx\n",
    "from jax import nn, random\n",
    "\n",
    "class ControlVariateModel(eqx.Module):\n",
    "    \"\"\"Control Variate NN model.\"\"\"\n",
    "\n",
    "    mlp: eqx.Module\n",
    "\n",
    "    def __init__(\n",
    "        self,\n",
    "        in_size=1,\n",
    "        width_size=4096,\n",
    "        depth=1,\n",
    "        activation=nn.relu,\n",
    "        key=random.PRNGKey(45),\n",
    "    ):\n",
    "        self.mlp = eqx.nn.MLP(\n",
    "            in_size=in_size,\n",
    "            out_size=1,\n",
    "            width_size=width_size,\n",
    "            depth=depth,\n",
    "            activation=activation,\n",
    "            key=key,\n",
    "        )\n",
    "\n",
    "    @eqx.filter_jit\n",
    "    def __call__(self, x):\n",
    "        \"\"\"Forward pass.\n",
    "\n",
    "        :param x: Data. Should be of shape (1, :),\n",
    "            as the model is intended to be vmapped over batches of data.\n",
    "        \"\"\"\n",
    "        return self.mlp(x).squeeze()"
   ]
  },
  {
   "cell_type": "code",
   "execution_count": 50,
   "metadata": {},
   "outputs": [],
   "source": [
    "def cv_loss(cv_model: eqx.Module, fn: tp.Callable, data: np.ndarray) -> float:\n",
    "    gx = jax.vmap(cv_model)(data)\n",
    "    fx = jax.vmap(fn)(data)\n",
    "    f_wave = fx - fx.mean()\n",
    "    grad_g = jax.vmap(jax.grad(cv_model))(data)\n",
    "    loss = -2 * gx * f_wave + (grad_g ** 2).sum(axis=1)\n",
    "    return loss.mean()"
   ]
  },
  {
   "cell_type": "code",
   "execution_count": 51,
   "metadata": {},
   "outputs": [],
   "source": [
    "def fit_cv(cv_model: eqx.Module, fn: tp.Callable, data: np.ndarray, optimizer: optax.GradientTransformation, loss: tp.Callable, n_steps: int = 1000):\n",
    "    opt_state = optimizer.init(eqx.filter(cv_model, eqx.is_array))\n",
    "    dloss = eqx.filter_jit(eqx.filter_value_and_grad(loss))\n",
    "    \n",
    "    @eqx.filter_jit\n",
    "    def step(cv_model, data, opt_state):\n",
    "        loss_score, grads = dloss(cv_model, fn, data)\n",
    "        updates, opt_state = optimizer.update(grads, opt_state)\n",
    "        cv_model = eqx.apply_updates(cv_model, updates)\n",
    "        return cv_model, opt_state, loss_score\n",
    "    \n",
    "    loss_history = []\n",
    "    for _ in tqdm(range(n_steps)):\n",
    "        cv_model, opt_state, loss_score = step(cv_model, data, opt_state)\n",
    "        loss_history.append(loss_score)\n",
    "    return cv_model, loss_history"
   ]
  },
  {
   "cell_type": "code",
   "execution_count": 20,
   "metadata": {},
   "outputs": [],
   "source": [
    "#generator(np.ones((2), dtype=float))\n",
    "#cv_model(np.ones((2), dtype=float)).shape"
   ]
  },
  {
   "cell_type": "code",
   "execution_count": 53,
   "metadata": {},
   "outputs": [
    {
     "name": "stderr",
     "output_type": "stream",
     "text": [
      "100%|██████████| 1000/1000 [00:05<00:00, 192.20it/s]\n"
     ]
    }
   ],
   "source": [
    "fn = lambda x: x.sum()\n",
    "cv_model = ControlVariateModel(in_size=mixture.means.shape[1], key=key)\n",
    "\n",
    "optimizer = optax.adam(learning_rate=5e-3)\n",
    "\n",
    "updated_model, loss_history = fit_cv(\n",
    "    cv_model, \n",
    "    fn,\n",
    "    samples,  \n",
    "    optimizer,\n",
    "    cv_loss, \n",
    "    n_steps=1_000,\n",
    ")"
   ]
  },
  {
   "cell_type": "code",
   "execution_count": 54,
   "metadata": {},
   "outputs": [
    {
     "data": {
      "text/plain": [
       "[<matplotlib.lines.Line2D at 0x7f0e584f3790>]"
      ]
     },
     "execution_count": 54,
     "metadata": {},
     "output_type": "execute_result"
    },
    {
     "data": {
      "image/png": "[encoded data removed]",
      "text/plain": [
       "<Figure size 640x480 with 1 Axes>"
      ]
     },
     "metadata": {},
     "output_type": "display_data"
    }
   ],
   "source": [
    "plt.plot(loss_history)"
   ]
  },
  {
   "cell_type": "code",
   "execution_count": 55,
   "metadata": {},
   "outputs": [],
   "source": [
    "generator = Generator(grad_log_p, cv_model)"
   ]
  },
  {
   "cell_type": "code",
   "execution_count": 56,
   "metadata": {},
   "outputs": [
    {
     "data": {
      "text/plain": [
       "Array(0.2105475, dtype=float32)"
      ]
     },
     "execution_count": 56,
     "metadata": {},
     "output_type": "execute_result"
    }
   ],
   "source": [
    "(jax.vmap(fn)(samples) + jax.vmap(generator)(samples)).mean()"
   ]
  }
 ],
 "metadata": {
  "kernelspec": {
   "display_name": "kkorolev",
   "language": "python",
   "name": "python3"
  },
  "language_info": {
   "codemirror_mode": {
    "name": "ipython",
    "version": 3
   },
   "file_extension": ".py",
   "mimetype": "text/x-python",
   "name": "python",
   "nbconvert_exporter": "python",
   "pygments_lexer": "ipython3",
   "version": "3.11.4"
  }
 },
 "nbformat": 4,
 "nbformat_minor": 2
}
